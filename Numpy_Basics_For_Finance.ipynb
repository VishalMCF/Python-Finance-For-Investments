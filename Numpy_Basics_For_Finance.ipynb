{
  "nbformat": 4,
  "nbformat_minor": 0,
  "metadata": {
    "colab": {
      "provenance": [],
      "authorship_tag": "ABX9TyOGtDQBClmXePIoAjaaJ0z/",
      "include_colab_link": true
    },
    "kernelspec": {
      "name": "python3",
      "display_name": "Python 3"
    },
    "language_info": {
      "name": "python"
    }
  },
  "cells": [
    {
      "cell_type": "markdown",
      "metadata": {
        "id": "view-in-github",
        "colab_type": "text"
      },
      "source": [
        "<a href=\"https://colab.research.google.com/github/VishalMCF/Python-Finance-For-Investments/blob/main/Numpy_Basics_For_Finance.ipynb\" target=\"_parent\"><img src=\"https://colab.research.google.com/assets/colab-badge.svg\" alt=\"Open In Colab\"/></a>"
      ]
    },
    {
      "cell_type": "markdown",
      "source": [
        "**Importing Numpy**"
      ],
      "metadata": {
        "id": "5YZKMHr6P4fp"
      }
    },
    {
      "cell_type": "code",
      "execution_count": 1,
      "metadata": {
        "id": "2ErxdEY8Oo_u"
      },
      "outputs": [],
      "source": [
        "# prompt: import numpy\n",
        "\n",
        "import numpy as np\n"
      ]
    },
    {
      "cell_type": "markdown",
      "source": [
        "**Creating Numpy Arrays**"
      ],
      "metadata": {
        "id": "edpFR4AUPx1C"
      }
    },
    {
      "cell_type": "code",
      "source": [
        "# declare a python list\n",
        "my_List = [1,2,3,4,5]\n",
        "\n",
        "#create a numpy array from python list\n",
        "my_array = np.array(my_List)\n",
        "\n",
        "#print the array\n",
        "print(my_array)\n",
        "\n",
        "#print the type of the array\n",
        "print(type(my_array))"
      ],
      "metadata": {
        "colab": {
          "base_uri": "https://localhost:8080/"
        },
        "id": "W6jZ4kQaO_pG",
        "outputId": "4c9bc1e6-4a78-42f1-dc04-81bc9b79760d"
      },
      "execution_count": 2,
      "outputs": [
        {
          "output_type": "stream",
          "name": "stdout",
          "text": [
            "[1 2 3 4 5]\n",
            "<class 'numpy.ndarray'>\n"
          ]
        }
      ]
    },
    {
      "cell_type": "markdown",
      "source": [
        "**Creating Matrix**"
      ],
      "metadata": {
        "id": "batAJRNHQkhP"
      }
    },
    {
      "cell_type": "code",
      "source": [
        "#declare a python list of list of consitent mxn dimensions\n",
        "my_python_matrix = [[1,2,3], [4,5,6], [7,8,9]]\n",
        "\n",
        "#print the python list of list\n",
        "print(my_python_matrix)\n",
        "\n",
        "#print the type of the matrix created above\n",
        "print(type(my_python_matrix))\n",
        "\n",
        "#create numpy matrix from python list\n",
        "my_numpy_matrix = np.array(my_python_matrix)\n",
        "\n",
        "#print the numpy matrix\n",
        "print(my_numpy_matrix)\n",
        "\n",
        "#print the type of the numpy matrix\n",
        "print(type(my_numpy_matrix))"
      ],
      "metadata": {
        "colab": {
          "base_uri": "https://localhost:8080/"
        },
        "id": "wtktJ-DiQi_2",
        "outputId": "27985a01-8132-41d2-d162-a4b2768ae3a7"
      },
      "execution_count": 4,
      "outputs": [
        {
          "output_type": "stream",
          "name": "stdout",
          "text": [
            "[[1, 2, 3], [4, 5, 6], [7, 8, 9]]\n",
            "<class 'list'>\n",
            "[[1 2 3]\n",
            " [4 5 6]\n",
            " [7 8 9]]\n",
            "<class 'numpy.ndarray'>\n"
          ]
        }
      ]
    },
    {
      "cell_type": "code",
      "source": [],
      "metadata": {
        "id": "QMJgWBScUbY-"
      },
      "execution_count": null,
      "outputs": []
    },
    {
      "cell_type": "markdown",
      "source": [],
      "metadata": {
        "id": "AP4nm5BJPpBC"
      }
    }
  ]
}